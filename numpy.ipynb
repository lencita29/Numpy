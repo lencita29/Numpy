{
  "nbformat": 4,
  "nbformat_minor": 0,
  "metadata": {
    "colab": {
      "provenance": [],
      "gpuType": "T4"
    },
    "kernelspec": {
      "name": "python3",
      "display_name": "Python 3"
    },
    "language_info": {
      "name": "python"
    },
    "accelerator": "GPU"
  },
  "cells": [
    {
      "cell_type": "code",
      "execution_count": 2,
      "metadata": {
        "id": "UKUZwRthwU3k"
      },
      "outputs": [],
      "source": [
        "import numpy as np"
      ]
    },
    {
      "cell_type": "code",
      "source": [
        "#creating arrays\n",
        "a=np.array([1,2,3])\n",
        "print(\"Array a:\",a)\n",
        "b=np.array([[1,2,3],[4,5,6]])\n",
        "print(\"Array b:\\n\",b)"
      ],
      "metadata": {
        "colab": {
          "base_uri": "https://localhost:8080/"
        },
        "id": "US2N2_-UwYiB",
        "outputId": "8bf416c7-bc87-48cf-ed60-7707e8936f04"
      },
      "execution_count": 3,
      "outputs": [
        {
          "output_type": "stream",
          "name": "stdout",
          "text": [
            "Array a: [1 2 3]\n",
            "Array b:\n",
            " [[1 2 3]\n",
            " [4 5 6]]\n"
          ]
        }
      ]
    },
    {
      "cell_type": "code",
      "source": [
        "#array indexing and slicing\n",
        "print(\"First element of a: \",a[0])\n",
        "print(\"First row of b:\",b[0, :])"
      ],
      "metadata": {
        "colab": {
          "base_uri": "https://localhost:8080/"
        },
        "id": "dNFkW4kAw-EG",
        "outputId": "d0e12817-b2ba-4047-f3dc-b7c2002edf85"
      },
      "execution_count": 4,
      "outputs": [
        {
          "output_type": "stream",
          "name": "stdout",
          "text": [
            "First element of a:  1\n",
            "First row of b: [1 2 3]\n"
          ]
        }
      ]
    },
    {
      "cell_type": "code",
      "source": [
        "#Array operations\n",
        "c =a + 10\n",
        "print(\"Array c: \",c)\n",
        "d=b*2\n",
        "print(\"Array d: \\n\",d)"
      ],
      "metadata": {
        "colab": {
          "base_uri": "https://localhost:8080/"
        },
        "id": "3Qr4ayD7xRDU",
        "outputId": "0d10a9a9-ce1f-4ff2-f8e8-9ad06b304297"
      },
      "execution_count": 5,
      "outputs": [
        {
          "output_type": "stream",
          "name": "stdout",
          "text": [
            "Array c:  [11 12 13]\n",
            "Array d: \n",
            " [[ 2  4  6]\n",
            " [ 8 10 12]]\n"
          ]
        }
      ]
    },
    {
      "cell_type": "code",
      "source": [
        "#Broadcasting\n",
        "e=a*np.array([1,2,3])\n",
        "print(\"Array e: \",e)"
      ],
      "metadata": {
        "colab": {
          "base_uri": "https://localhost:8080/"
        },
        "id": "zSpX0RlSxlDL",
        "outputId": "7ef06c90-da01-4c0e-e9ca-53b3570e8e3d"
      },
      "execution_count": 6,
      "outputs": [
        {
          "output_type": "stream",
          "name": "stdout",
          "text": [
            "Array e:  [1 4 9]\n"
          ]
        }
      ]
    },
    {
      "cell_type": "code",
      "source": [
        "#Advanced indexing\n",
        "f=b[[0,1],[1,2]]\n",
        "print(\" Advanced indexing: \",f)"
      ],
      "metadata": {
        "colab": {
          "base_uri": "https://localhost:8080/"
        },
        "id": "L8I1bR1Ux1Ej",
        "outputId": "5ea74770-8a08-4f15-9660-1d453128dbc2"
      },
      "execution_count": 7,
      "outputs": [
        {
          "output_type": "stream",
          "name": "stdout",
          "text": [
            " Advanced indexing:  [2 6]\n"
          ]
        }
      ]
    },
    {
      "cell_type": "code",
      "source": [
        "#Linear Algebra operations\n",
        "g=np.dot(a,a)\n",
        "print(\"Dot prodct g: \",e)"
      ],
      "metadata": {
        "colab": {
          "base_uri": "https://localhost:8080/"
        },
        "id": "pNj4LFaWyGmD",
        "outputId": "0ef24c6b-75d6-4b68-9a01-8fdbccf85906"
      },
      "execution_count": 8,
      "outputs": [
        {
          "output_type": "stream",
          "name": "stdout",
          "text": [
            "Dot prodct g:  [1 4 9]\n"
          ]
        }
      ]
    },
    {
      "cell_type": "markdown",
      "source": [],
      "metadata": {
        "id": "tT6vMd-QwYHW"
      }
    }
  ]
}